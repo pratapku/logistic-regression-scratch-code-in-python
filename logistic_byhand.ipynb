{
 "cells": [
  {
   "cell_type": "code",
   "execution_count": 120,
   "metadata": {},
   "outputs": [],
   "source": [
    "import pandas as pd\n",
    "import numpy as np"
   ]
  },
  {
   "cell_type": "code",
   "execution_count": 121,
   "metadata": {},
   "outputs": [],
   "source": [
    "dt=pd.read_csv(\"ucicancer.csv\")"
   ]
  },
  {
   "cell_type": "code",
   "execution_count": 122,
   "metadata": {},
   "outputs": [],
   "source": [
    "dt=dt.replace(\"?\",15)\n",
    "dt=dt[['b','c','d','e','f','g','h','i','j','class']]"
   ]
  },
  {
   "cell_type": "code",
   "execution_count": 123,
   "metadata": {},
   "outputs": [],
   "source": [
    "dt['g']=dt['g'].astype(dtype='i')\n",
    "x=dt.drop('class',axis=1)\n",
    "y=np.where(dt['class']==2,1,0)"
   ]
  },
  {
   "cell_type": "code",
   "execution_count": 124,
   "metadata": {},
   "outputs": [],
   "source": [
    "from sklearn.model_selection import train_test_split\n",
    "x_tr,x_ts,y_tr,y_ts=train_test_split(x,y,test_size=0.2)"
   ]
  },
  {
   "cell_type": "code",
   "execution_count": 125,
   "metadata": {},
   "outputs": [
    {
     "name": "stderr",
     "output_type": "stream",
     "text": [
      "C:\\Users\\amit\\AppData\\Local\\Programs\\Python\\Python36-32\\lib\\site-packages\\sklearn\\linear_model\\logistic.py:433: FutureWarning: Default solver will be changed to 'lbfgs' in 0.22. Specify a solver to silence this warning.\n",
      "  FutureWarning)\n"
     ]
    },
    {
     "data": {
      "text/plain": [
       "0.97142857142857142"
      ]
     },
     "execution_count": 125,
     "metadata": {},
     "output_type": "execute_result"
    }
   ],
   "source": [
    "from sklearn.linear_model import LogisticRegression\n",
    "algo=LogisticRegression()\n",
    "algo.fit(x_tr,y_tr)\n",
    "algo.score(x_ts,y_ts)"
   ]
  },
  {
   "cell_type": "code",
   "execution_count": 126,
   "metadata": {},
   "outputs": [
    {
     "name": "stdout",
     "output_type": "stream",
     "text": [
      "[[46  1]\n",
      " [ 3 90]]\n"
     ]
    }
   ],
   "source": [
    "from sklearn.metrics import confusion_matrix\n",
    "print(confusion_matrix(y_ts,algo.predict(x_ts)))"
   ]
  },
  {
   "cell_type": "code",
   "execution_count": 127,
   "metadata": {},
   "outputs": [
    {
     "name": "stdout",
     "output_type": "stream",
     "text": [
      "              precision    recall  f1-score   support\n",
      "\n",
      "           0       0.94      0.98      0.96        47\n",
      "           1       0.99      0.97      0.98        93\n",
      "\n",
      "   micro avg       0.97      0.97      0.97       140\n",
      "   macro avg       0.96      0.97      0.97       140\n",
      "weighted avg       0.97      0.97      0.97       140\n",
      "\n"
     ]
    }
   ],
   "source": [
    "from sklearn.metrics import classification_report\n",
    "print(classification_report(y_ts,algo.predict(x_ts)))"
   ]
  },
  {
   "cell_type": "code",
   "execution_count": 128,
   "metadata": {},
   "outputs": [],
   "source": [
    "import numpy as np\n",
    "def sigmoid(z):\n",
    "    return 1/(1+np.exp(-z))"
   ]
  },
  {
   "cell_type": "code",
   "execution_count": 129,
   "metadata": {},
   "outputs": [
    {
     "data": {
      "text/plain": [
       "(558, 9)"
      ]
     },
     "execution_count": 129,
     "metadata": {},
     "output_type": "execute_result"
    }
   ],
   "source": [
    "x_tr.shape"
   ]
  },
  {
   "cell_type": "code",
   "execution_count": 130,
   "metadata": {},
   "outputs": [],
   "source": [
    "th=np.zeros((1,x_tr.shape[1]))"
   ]
  },
  {
   "cell_type": "code",
   "execution_count": 131,
   "metadata": {},
   "outputs": [
    {
     "data": {
      "text/plain": [
       "0.69314718055994529"
      ]
     },
     "execution_count": 131,
     "metadata": {},
     "output_type": "execute_result"
    }
   ],
   "source": [
    "import numpy.matlib as ml\n",
    "def cost(x,y,th):\n",
    "    t=ml.matrix(th)\n",
    "    xm=ml.matrix(x)\n",
    "    s=sigmoid(t*xm.T)\n",
    "    first=y*np.array(np.log(s))\n",
    "    second=(1-y)*np.array(np.log(1-s))\n",
    "    return -1*(first+second).mean()\n",
    "cost(x_tr,y_tr,th)"
   ]
  },
  {
   "cell_type": "code",
   "execution_count": 132,
   "metadata": {},
   "outputs": [],
   "source": [
    "def gradient(x,y,th):\n",
    "    t=ml.matrix(th)\n",
    "    xm=ml.matrix(x)\n",
    "    s=sigmoid(t*xm.T)\n",
    "    err=s-y\n",
    "    n=np.array(x)*np.array(err).T\n",
    "    th=th-0.001*n.mean(axis=0)\n",
    "    return th"
   ]
  },
  {
   "cell_type": "code",
   "execution_count": 133,
   "metadata": {},
   "outputs": [
    {
     "name": "stdout",
     "output_type": "stream",
     "text": [
      "0.690825205328\n",
      "0.673975917564\n",
      "0.664292027803\n",
      "0.658100766581\n",
      "0.653654339526\n",
      "0.650110025834\n",
      "0.647052381599\n",
      "0.644271922015\n",
      "0.64166079807\n",
      "0.639162394089\n",
      "0.636746385438\n",
      "0.634396136806\n",
      "0.632102226083\n",
      "0.629859070735\n",
      "0.627663151501\n",
      "0.625512069281\n",
      "0.623404041113\n",
      "0.621337629396\n",
      "0.619311595804\n",
      "0.61732482213\n",
      "0.615376267231\n",
      "0.613464943459\n",
      "0.611589903634\n",
      "0.60975023375\n",
      "0.607945048753\n",
      "0.606173490014\n",
      "0.604434723699\n",
      "0.602727939629\n",
      "0.601052350411\n",
      "0.599407190704\n",
      "0.597791716574\n",
      "0.596205204885\n",
      "0.594646952724\n",
      "0.59311627684\n",
      "0.591612513099\n",
      "0.590135015951\n",
      "0.588683157903\n",
      "0.587256329011\n",
      "0.585853936377\n",
      "0.584475403658\n",
      "0.583120170589\n",
      "0.581787692511\n",
      "0.580477439919\n",
      "0.579188898014\n",
      "0.577921566271\n",
      "0.576674958015\n",
      "0.575448600011\n",
      "0.574242032065\n",
      "0.573054806632\n",
      "0.571886488443\n",
      "0.570736654134\n",
      "0.569604891889\n",
      "0.568490801099\n",
      "0.56739399202\n",
      "0.566314085448\n",
      "0.565250712406\n",
      "0.564203513832\n",
      "0.563172140287\n",
      "0.562156251661\n",
      "0.561155516896\n",
      "0.560169613715\n",
      "0.559198228356\n",
      "0.558241055323\n",
      "0.557297797133\n",
      "0.556368164081\n",
      "0.555451874006\n",
      "0.554548652069\n",
      "0.553658230534\n",
      "0.552780348556\n",
      "0.55191475198\n",
      "0.551061193142\n",
      "0.55021943068\n",
      "0.549389229345\n",
      "0.548570359823\n",
      "0.547762598565\n",
      "0.546965727613\n",
      "0.546179534443\n",
      "0.545403811801\n",
      "0.544638357558\n",
      "0.543882974554\n",
      "0.543137470462\n",
      "0.542401657644\n",
      "0.541675353022\n",
      "0.54095837794\n",
      "0.540250558049\n",
      "0.539551723175\n",
      "0.538861707206\n",
      "0.538180347977\n",
      "0.537507487159\n",
      "0.536842970151\n",
      "0.536186645976\n",
      "0.535538367181\n",
      "0.534897989739\n",
      "0.534265372955\n",
      "0.533640379372\n",
      "0.533022874686\n",
      "0.532412727656\n",
      "0.531809810024\n",
      "0.531213996431\n",
      "0.53062516434\n"
     ]
    }
   ],
   "source": [
    "for i in range(1000):\n",
    "    th=gradient(x_tr,y_tr,th)\n",
    "    if i%10==0:\n",
    "        print(cost(x_tr,y_tr,th))"
   ]
  },
  {
   "cell_type": "code",
   "execution_count": 134,
   "metadata": {},
   "outputs": [
    {
     "name": "stdout",
     "output_type": "stream",
     "text": [
      "0.530101085582\n"
     ]
    }
   ],
   "source": [
    "print(cost(x_tr,y_tr,th))"
   ]
  },
  {
   "cell_type": "code",
   "execution_count": 135,
   "metadata": {},
   "outputs": [],
   "source": [
    "def predict(x,th):\n",
    "    t=ml.matrix(th)\n",
    "    xm=ml.matrix(x)\n",
    "    s=sigmoid(t*xm.T)\n",
    "    if s>=0.5:\n",
    "        return 1\n",
    "    else:\n",
    "        return 0\n",
    "    "
   ]
  },
  {
   "cell_type": "code",
   "execution_count": 136,
   "metadata": {},
   "outputs": [
    {
     "data": {
      "text/plain": [
       "0.8357142857142857"
      ]
     },
     "execution_count": 136,
     "metadata": {},
     "output_type": "execute_result"
    }
   ],
   "source": [
    "c=0\n",
    "for i in range(x_ts.shape[0]):\n",
    "    if predict(x_ts.iloc[i],th)==y_ts[i]:\n",
    "        c+=1\n",
    "c/x_ts.shape[0]"
   ]
  },
  {
   "cell_type": "code",
   "execution_count": null,
   "metadata": {},
   "outputs": [],
   "source": []
  }
 ],
 "metadata": {
  "kernelspec": {
   "display_name": "Python 3",
   "language": "python",
   "name": "python3"
  }
 },
 "nbformat": 4,
 "nbformat_minor": 2
}
